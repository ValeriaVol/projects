{
  "nbformat": 4,
  "nbformat_minor": 0,
  "metadata": {
    "colab": {
      "name": "markov_chain_project.ipynb",
      "version": "0.3.2",
      "provenance": []
    },
    "kernelspec": {
      "name": "python3",
      "display_name": "Python 3"
    }
  },
  "cells": [
    {
      "cell_type": "code",
      "metadata": {
        "id": "ShBQtJIg5Smi",
        "colab_type": "code",
        "colab": {
          "base_uri": "https://localhost:8080/",
          "height": 35
        },
        "outputId": "53c1cb0e-9e6c-4be6-f884-8fdf2299f58e"
      },
      "source": [
        "import pandas as pd\n",
        "import nltk\n",
        "\n",
        "from sklearn.utils import shuffle\n",
        "from collections import Counter\n",
        "import itertools\n",
        "\n",
        "from keras.preprocessing.text import Tokenizer\n",
        "from keras.preprocessing.sequence import pad_sequences\n",
        "from keras.layers import LSTM, TimeDistributed, Bidirectional\n",
        "from keras.models import Sequential\n",
        "from keras.layers import Dense, Activation, Embedding, Flatten, Dropout"
      ],
      "execution_count": 1,
      "outputs": [
        {
          "output_type": "stream",
          "text": [
            "Using TensorFlow backend.\n"
          ],
          "name": "stderr"
        }
      ]
    },
    {
      "cell_type": "code",
      "metadata": {
        "id": "fdLqGeWP5d0S",
        "colab_type": "code",
        "colab": {}
      },
      "source": [
        "df  = pd.read_csv(\"wiki_movie_plots_deduped.csv\")"
      ],
      "execution_count": 0,
      "outputs": []
    },
    {
      "cell_type": "code",
      "metadata": {
        "id": "37Ycva825jSj",
        "colab_type": "code",
        "colab": {}
      },
      "source": [
        "del df['Wiki Page']\n",
        "del df['Director']\n",
        "del df['Genre']\n",
        "del df['Wiki Page']"
      ],
      "execution_count": 0,
      "outputs": []
    },
    {
      "cell_type": "code",
      "metadata": {
        "id": "QeP4yj7ji6D0",
        "colab_type": "code",
        "colab": {}
      },
      "source": [
        "corpus = list(df.Plot)"
      ],
      "execution_count": 0,
      "outputs": []
    },
    {
      "cell_type": "code",
      "metadata": {
        "id": "TtWL8lfR-GMP",
        "colab_type": "code",
        "colab": {}
      },
      "source": [
        "df.drop(df.index[1000:], inplace = True)"
      ],
      "execution_count": 0,
      "outputs": []
    },
    {
      "cell_type": "code",
      "metadata": {
        "id": "tqKNFOo4-IfO",
        "colab_type": "code",
        "colab": {
          "base_uri": "https://localhost:8080/",
          "height": 228
        },
        "outputId": "d54e0d17-3680-4827-c6d5-016c83644548"
      },
      "source": [
        "!pip install markovify\n",
        "import markovify"
      ],
      "execution_count": 5,
      "outputs": [
        {
          "output_type": "stream",
          "text": [
            "Collecting markovify\n",
            "  Downloading https://files.pythonhosted.org/packages/94/b2/b4ce1e461bb3482b1fd63328a2097aed5917cdfa0dbfe9492a84ea46e2ab/markovify-0.7.1.tar.gz\n",
            "Collecting unidecode (from markovify)\n",
            "\u001b[?25l  Downloading https://files.pythonhosted.org/packages/31/39/53096f9217b057cb049fe872b7fc7ce799a1a89b76cf917d9639e7a558b5/Unidecode-1.0.23-py2.py3-none-any.whl (237kB)\n",
            "\u001b[K     |████████████████████████████████| 245kB 7.1MB/s \n",
            "\u001b[?25hBuilding wheels for collected packages: markovify\n",
            "  Building wheel for markovify (setup.py) ... \u001b[?25l\u001b[?25hdone\n",
            "  Stored in directory: /root/.cache/pip/wheels/66/fe/5b/07257dd2401d9835447a0f0223f967c998c153404d32612253\n",
            "Successfully built markovify\n",
            "Installing collected packages: unidecode, markovify\n",
            "Successfully installed markovify-0.7.1 unidecode-1.0.23\n"
          ],
          "name": "stdout"
        }
      ]
    },
    {
      "cell_type": "code",
      "metadata": {
        "id": "tk3QU_GA-OQl",
        "colab_type": "code",
        "colab": {}
      },
      "source": [
        "example = markovify.Text(corpus)"
      ],
      "execution_count": 0,
      "outputs": []
    },
    {
      "cell_type": "code",
      "metadata": {
        "id": "rBRxAmvd-QnF",
        "colab_type": "code",
        "colab": {
          "base_uri": "https://localhost:8080/",
          "height": 384
        },
        "outputId": "b2030b11-b434-4a48-d310-fd103b13d2d8"
      },
      "source": [
        "for i in range(10):\n",
        "    print(example.make_sentence())\n",
        "    print()"
      ],
      "execution_count": 7,
      "outputs": [
        {
          "output_type": "stream",
          "text": [
            "The action is to be alive, but the Clowns ambush them in the same complex where the bombs to create what they are.\n",
            "\n",
            "This resulted in a swimming pool.\n",
            "\n",
            "Back in Los Angeles.\n",
            "\n",
            "One day, Lars, a sad Mannu eventually returns his letter to her reality and breaks his arm, revealing its robotic replacement and scores several goals but is unsuccessful at receiving his methadone, Betty notices him.\n",
            "\n",
            "Max is only the staff.\n",
            "\n",
            "Han Xin into a partnership to create a vaccine.\n",
            "\n",
            "Patrick learns that he would be temporarily restored if she did not believe his love for her throughout the movie.\n",
            "\n",
            "Krupp under a police siren.\n",
            "\n",
            "Seal accepts and tells her that both of them use the cure.\n",
            "\n",
            "At first enraged by this time and goes to the state championship, but he loses his job with Dick's magazine.\n",
            "\n"
          ],
          "name": "stdout"
        }
      ]
    }
  ]
}